{
 "cells": [
  {
   "cell_type": "markdown",
   "metadata": {},
   "source": [
    "# Import Data from Pandas and other module"
   ]
  },
  {
   "cell_type": "markdown",
   "metadata": {},
   "source": [
    "The first thing to do to work with external data is to correctly install and import the necessary modules.\n",
    "For this work we will mainly use the pandas and numpy library. Matplotlib will be used later to display data in graphs"
   ]
  },
  {
   "cell_type": "code",
   "execution_count": 1,
   "metadata": {},
   "outputs": [],
   "source": [
    "import pandas as pd\n",
    "import numpy as np\n",
    "import re\n",
    "import matplotlib.pyplot as plt\n",
    "import geopandas as gpd\n",
    "import geopy\n",
    "from  geopy.geocoders import Nominatim\n",
    "import folium\n",
    "from function import * # to import the functions created in the function.py file"
   ]
  },
  {
   "cell_type": "code",
   "execution_count": 2,
   "metadata": {},
   "outputs": [],
   "source": [
    "df = pd.read_csv('input/attacks.csv', encoding = 'latin-1')"
   ]
  },
  {
   "cell_type": "code",
   "execution_count": 3,
   "metadata": {},
   "outputs": [
    {
     "data": {
      "text/html": [
       "<div>\n",
       "<style scoped>\n",
       "    .dataframe tbody tr th:only-of-type {\n",
       "        vertical-align: middle;\n",
       "    }\n",
       "\n",
       "    .dataframe tbody tr th {\n",
       "        vertical-align: top;\n",
       "    }\n",
       "\n",
       "    .dataframe thead th {\n",
       "        text-align: right;\n",
       "    }\n",
       "</style>\n",
       "<table border=\"1\" class=\"dataframe\">\n",
       "  <thead>\n",
       "    <tr style=\"text-align: right;\">\n",
       "      <th></th>\n",
       "      <th>Case Number</th>\n",
       "      <th>Date</th>\n",
       "      <th>Year</th>\n",
       "      <th>Type</th>\n",
       "      <th>Country</th>\n",
       "      <th>Area</th>\n",
       "      <th>Location</th>\n",
       "      <th>Activity</th>\n",
       "      <th>Name</th>\n",
       "      <th>Sex</th>\n",
       "      <th>...</th>\n",
       "      <th>Species</th>\n",
       "      <th>Investigator or Source</th>\n",
       "      <th>pdf</th>\n",
       "      <th>href formula</th>\n",
       "      <th>href</th>\n",
       "      <th>Case Number.1</th>\n",
       "      <th>Case Number.2</th>\n",
       "      <th>original order</th>\n",
       "      <th>Unnamed: 22</th>\n",
       "      <th>Unnamed: 23</th>\n",
       "    </tr>\n",
       "  </thead>\n",
       "  <tbody>\n",
       "    <tr>\n",
       "      <th>0</th>\n",
       "      <td>2018.06.25</td>\n",
       "      <td>25-Jun-2018</td>\n",
       "      <td>2018.0</td>\n",
       "      <td>Boating</td>\n",
       "      <td>USA</td>\n",
       "      <td>California</td>\n",
       "      <td>Oceanside, San Diego County</td>\n",
       "      <td>Paddling</td>\n",
       "      <td>Julie Wolfe</td>\n",
       "      <td>F</td>\n",
       "      <td>...</td>\n",
       "      <td>White shark</td>\n",
       "      <td>R. Collier, GSAF</td>\n",
       "      <td>2018.06.25-Wolfe.pdf</td>\n",
       "      <td>http://sharkattackfile.net/spreadsheets/pdf_di...</td>\n",
       "      <td>http://sharkattackfile.net/spreadsheets/pdf_di...</td>\n",
       "      <td>2018.06.25</td>\n",
       "      <td>2018.06.25</td>\n",
       "      <td>6303.0</td>\n",
       "      <td>NaN</td>\n",
       "      <td>NaN</td>\n",
       "    </tr>\n",
       "    <tr>\n",
       "      <th>1</th>\n",
       "      <td>2018.06.18</td>\n",
       "      <td>18-Jun-2018</td>\n",
       "      <td>2018.0</td>\n",
       "      <td>Unprovoked</td>\n",
       "      <td>USA</td>\n",
       "      <td>Georgia</td>\n",
       "      <td>St. Simon Island, Glynn County</td>\n",
       "      <td>Standing</td>\n",
       "      <td>Adyson McNeely</td>\n",
       "      <td>F</td>\n",
       "      <td>...</td>\n",
       "      <td>NaN</td>\n",
       "      <td>K.McMurray, TrackingSharks.com</td>\n",
       "      <td>2018.06.18-McNeely.pdf</td>\n",
       "      <td>http://sharkattackfile.net/spreadsheets/pdf_di...</td>\n",
       "      <td>http://sharkattackfile.net/spreadsheets/pdf_di...</td>\n",
       "      <td>2018.06.18</td>\n",
       "      <td>2018.06.18</td>\n",
       "      <td>6302.0</td>\n",
       "      <td>NaN</td>\n",
       "      <td>NaN</td>\n",
       "    </tr>\n",
       "    <tr>\n",
       "      <th>2</th>\n",
       "      <td>2018.06.09</td>\n",
       "      <td>09-Jun-2018</td>\n",
       "      <td>2018.0</td>\n",
       "      <td>Invalid</td>\n",
       "      <td>USA</td>\n",
       "      <td>Hawaii</td>\n",
       "      <td>Habush, Oahu</td>\n",
       "      <td>Surfing</td>\n",
       "      <td>John Denges</td>\n",
       "      <td>M</td>\n",
       "      <td>...</td>\n",
       "      <td>NaN</td>\n",
       "      <td>K.McMurray, TrackingSharks.com</td>\n",
       "      <td>2018.06.09-Denges.pdf</td>\n",
       "      <td>http://sharkattackfile.net/spreadsheets/pdf_di...</td>\n",
       "      <td>http://sharkattackfile.net/spreadsheets/pdf_di...</td>\n",
       "      <td>2018.06.09</td>\n",
       "      <td>2018.06.09</td>\n",
       "      <td>6301.0</td>\n",
       "      <td>NaN</td>\n",
       "      <td>NaN</td>\n",
       "    </tr>\n",
       "    <tr>\n",
       "      <th>3</th>\n",
       "      <td>2018.06.08</td>\n",
       "      <td>08-Jun-2018</td>\n",
       "      <td>2018.0</td>\n",
       "      <td>Unprovoked</td>\n",
       "      <td>AUSTRALIA</td>\n",
       "      <td>New South Wales</td>\n",
       "      <td>Arrawarra Headland</td>\n",
       "      <td>Surfing</td>\n",
       "      <td>male</td>\n",
       "      <td>M</td>\n",
       "      <td>...</td>\n",
       "      <td>2 m shark</td>\n",
       "      <td>B. Myatt, GSAF</td>\n",
       "      <td>2018.06.08-Arrawarra.pdf</td>\n",
       "      <td>http://sharkattackfile.net/spreadsheets/pdf_di...</td>\n",
       "      <td>http://sharkattackfile.net/spreadsheets/pdf_di...</td>\n",
       "      <td>2018.06.08</td>\n",
       "      <td>2018.06.08</td>\n",
       "      <td>6300.0</td>\n",
       "      <td>NaN</td>\n",
       "      <td>NaN</td>\n",
       "    </tr>\n",
       "    <tr>\n",
       "      <th>4</th>\n",
       "      <td>2018.06.04</td>\n",
       "      <td>04-Jun-2018</td>\n",
       "      <td>2018.0</td>\n",
       "      <td>Provoked</td>\n",
       "      <td>MEXICO</td>\n",
       "      <td>Colima</td>\n",
       "      <td>La Ticla</td>\n",
       "      <td>Free diving</td>\n",
       "      <td>Gustavo Ramos</td>\n",
       "      <td>M</td>\n",
       "      <td>...</td>\n",
       "      <td>Tiger shark, 3m</td>\n",
       "      <td>A .Kipper</td>\n",
       "      <td>2018.06.04-Ramos.pdf</td>\n",
       "      <td>http://sharkattackfile.net/spreadsheets/pdf_di...</td>\n",
       "      <td>http://sharkattackfile.net/spreadsheets/pdf_di...</td>\n",
       "      <td>2018.06.04</td>\n",
       "      <td>2018.06.04</td>\n",
       "      <td>6299.0</td>\n",
       "      <td>NaN</td>\n",
       "      <td>NaN</td>\n",
       "    </tr>\n",
       "  </tbody>\n",
       "</table>\n",
       "<p>5 rows × 24 columns</p>\n",
       "</div>"
      ],
      "text/plain": [
       "  Case Number         Date    Year        Type    Country             Area  \\\n",
       "0  2018.06.25  25-Jun-2018  2018.0     Boating        USA       California   \n",
       "1  2018.06.18  18-Jun-2018  2018.0  Unprovoked        USA          Georgia   \n",
       "2  2018.06.09  09-Jun-2018  2018.0     Invalid        USA           Hawaii   \n",
       "3  2018.06.08  08-Jun-2018  2018.0  Unprovoked  AUSTRALIA  New South Wales   \n",
       "4  2018.06.04  04-Jun-2018  2018.0    Provoked     MEXICO           Colima   \n",
       "\n",
       "                         Location     Activity             Name Sex   ...  \\\n",
       "0     Oceanside, San Diego County     Paddling      Julie Wolfe    F  ...   \n",
       "1  St. Simon Island, Glynn County     Standing  Adyson McNeely     F  ...   \n",
       "2                    Habush, Oahu      Surfing      John Denges    M  ...   \n",
       "3              Arrawarra Headland      Surfing             male    M  ...   \n",
       "4                        La Ticla  Free diving   Gustavo Ramos     M  ...   \n",
       "\n",
       "          Species           Investigator or Source                       pdf  \\\n",
       "0      White shark                R. Collier, GSAF      2018.06.25-Wolfe.pdf   \n",
       "1              NaN  K.McMurray, TrackingSharks.com    2018.06.18-McNeely.pdf   \n",
       "2              NaN  K.McMurray, TrackingSharks.com     2018.06.09-Denges.pdf   \n",
       "3        2 m shark                  B. Myatt, GSAF  2018.06.08-Arrawarra.pdf   \n",
       "4  Tiger shark, 3m                       A .Kipper      2018.06.04-Ramos.pdf   \n",
       "\n",
       "                                        href formula  \\\n",
       "0  http://sharkattackfile.net/spreadsheets/pdf_di...   \n",
       "1  http://sharkattackfile.net/spreadsheets/pdf_di...   \n",
       "2  http://sharkattackfile.net/spreadsheets/pdf_di...   \n",
       "3  http://sharkattackfile.net/spreadsheets/pdf_di...   \n",
       "4  http://sharkattackfile.net/spreadsheets/pdf_di...   \n",
       "\n",
       "                                                href Case Number.1  \\\n",
       "0  http://sharkattackfile.net/spreadsheets/pdf_di...    2018.06.25   \n",
       "1  http://sharkattackfile.net/spreadsheets/pdf_di...    2018.06.18   \n",
       "2  http://sharkattackfile.net/spreadsheets/pdf_di...    2018.06.09   \n",
       "3  http://sharkattackfile.net/spreadsheets/pdf_di...    2018.06.08   \n",
       "4  http://sharkattackfile.net/spreadsheets/pdf_di...    2018.06.04   \n",
       "\n",
       "  Case Number.2 original order Unnamed: 22 Unnamed: 23  \n",
       "0    2018.06.25         6303.0         NaN         NaN  \n",
       "1    2018.06.18         6302.0         NaN         NaN  \n",
       "2    2018.06.09         6301.0         NaN         NaN  \n",
       "3    2018.06.08         6300.0         NaN         NaN  \n",
       "4    2018.06.04         6299.0         NaN         NaN  \n",
       "\n",
       "[5 rows x 24 columns]"
      ]
     },
     "execution_count": 3,
     "metadata": {},
     "output_type": "execute_result"
    }
   ],
   "source": [
    "df.head()"
   ]
  },
  {
   "cell_type": "code",
   "execution_count": 4,
   "metadata": {},
   "outputs": [
    {
     "data": {
      "text/html": [
       "<div>\n",
       "<style scoped>\n",
       "    .dataframe tbody tr th:only-of-type {\n",
       "        vertical-align: middle;\n",
       "    }\n",
       "\n",
       "    .dataframe tbody tr th {\n",
       "        vertical-align: top;\n",
       "    }\n",
       "\n",
       "    .dataframe thead th {\n",
       "        text-align: right;\n",
       "    }\n",
       "</style>\n",
       "<table border=\"1\" class=\"dataframe\">\n",
       "  <thead>\n",
       "    <tr style=\"text-align: right;\">\n",
       "      <th></th>\n",
       "      <th>count</th>\n",
       "      <th>mean</th>\n",
       "      <th>std</th>\n",
       "      <th>min</th>\n",
       "      <th>25%</th>\n",
       "      <th>50%</th>\n",
       "      <th>75%</th>\n",
       "      <th>max</th>\n",
       "    </tr>\n",
       "  </thead>\n",
       "  <tbody>\n",
       "    <tr>\n",
       "      <th>Year</th>\n",
       "      <td>6300.0</td>\n",
       "      <td>1927.272381</td>\n",
       "      <td>281.116308</td>\n",
       "      <td>0.0</td>\n",
       "      <td>1942.0</td>\n",
       "      <td>1977.0</td>\n",
       "      <td>2005.0</td>\n",
       "      <td>2018.0</td>\n",
       "    </tr>\n",
       "    <tr>\n",
       "      <th>original order</th>\n",
       "      <td>6309.0</td>\n",
       "      <td>3155.999683</td>\n",
       "      <td>1821.396206</td>\n",
       "      <td>2.0</td>\n",
       "      <td>1579.0</td>\n",
       "      <td>3156.0</td>\n",
       "      <td>4733.0</td>\n",
       "      <td>6310.0</td>\n",
       "    </tr>\n",
       "  </tbody>\n",
       "</table>\n",
       "</div>"
      ],
      "text/plain": [
       "                 count         mean          std  min     25%     50%     75%  \\\n",
       "Year            6300.0  1927.272381   281.116308  0.0  1942.0  1977.0  2005.0   \n",
       "original order  6309.0  3155.999683  1821.396206  2.0  1579.0  3156.0  4733.0   \n",
       "\n",
       "                   max  \n",
       "Year            2018.0  \n",
       "original order  6310.0  "
      ]
     },
     "execution_count": 4,
     "metadata": {},
     "output_type": "execute_result"
    }
   ],
   "source": [
    "# Generate descriptive statistics.\n",
    "#Descriptive statistics include those that summarize the central tendency, \n",
    "#dispersion and shape of a dataset’s distribution, excluding NaN values.\n",
    "\n",
    "df.describe().T"
   ]
  },
  {
   "cell_type": "code",
   "execution_count": 5,
   "metadata": {},
   "outputs": [
    {
     "data": {
      "text/plain": [
       "(25723, 24)"
      ]
     },
     "execution_count": 5,
     "metadata": {},
     "output_type": "execute_result"
    }
   ],
   "source": [
    "# Return a tuple representing the dimensionality of the DataFrame\n",
    "df.shape"
   ]
  },
  {
   "cell_type": "markdown",
   "metadata": {},
   "source": [
    "##  Dataframe filtering process 1/2\n",
    "This step it's the most important. You need to look the DataFrame and clean the Data from incorrect values.\n",
    "You can see that there are a lot of columns with multiple *NaN* values, or where the data are they need to be converted before they can be used properly"
   ]
  },
  {
   "cell_type": "code",
   "execution_count": 6,
   "metadata": {},
   "outputs": [
    {
     "data": {
      "text/plain": [
       "Index(['Case Number', 'Date', 'Year', 'Type', 'Country', 'Area', 'Location',\n",
       "       'Activity', 'Name', 'Sex ', 'Age', 'Injury', 'Fatal (Y/N)', 'Time',\n",
       "       'Species ', 'Investigator or Source', 'pdf', 'href formula', 'href',\n",
       "       'Case Number.1', 'Case Number.2', 'original order', 'Unnamed: 22',\n",
       "       'Unnamed: 23'],\n",
       "      dtype='object')"
      ]
     },
     "execution_count": 6,
     "metadata": {},
     "output_type": "execute_result"
    }
   ],
   "source": [
    "# The column labels of the DataFrame\n",
    "df.columns"
   ]
  },
  {
   "cell_type": "code",
   "execution_count": 7,
   "metadata": {},
   "outputs": [
    {
     "data": {
      "text/plain": [
       "Unnamed: 22    25722\n",
       "Unnamed: 23    25721\n",
       "Time           22775\n",
       "Species        22259\n",
       "Age            22252\n",
       "dtype: int64"
      ]
     },
     "execution_count": 7,
     "metadata": {},
     "output_type": "execute_result"
    }
   ],
   "source": [
    "# Detect missing values. Return a boolean output\n",
    "df.isnull().sum().sort_values(ascending=False).head(5)"
   ]
  },
  {
   "cell_type": "code",
   "execution_count": 8,
   "metadata": {},
   "outputs": [],
   "source": [
    "# First filtering of data with the choice of columns useful for carrying out our hypothesis\n",
    "small_df = df[['Year', 'Country', 'Area', 'Location', 'Activity', 'Fatal (Y/N)', 'Injury','Species ']]"
   ]
  },
  {
   "cell_type": "code",
   "execution_count": 9,
   "metadata": {},
   "outputs": [
    {
     "data": {
      "text/html": [
       "<div>\n",
       "<style scoped>\n",
       "    .dataframe tbody tr th:only-of-type {\n",
       "        vertical-align: middle;\n",
       "    }\n",
       "\n",
       "    .dataframe tbody tr th {\n",
       "        vertical-align: top;\n",
       "    }\n",
       "\n",
       "    .dataframe thead th {\n",
       "        text-align: right;\n",
       "    }\n",
       "</style>\n",
       "<table border=\"1\" class=\"dataframe\">\n",
       "  <thead>\n",
       "    <tr style=\"text-align: right;\">\n",
       "      <th></th>\n",
       "      <th>Year</th>\n",
       "      <th>Country</th>\n",
       "      <th>Area</th>\n",
       "      <th>Location</th>\n",
       "      <th>Activity</th>\n",
       "      <th>Fatal (Y/N)</th>\n",
       "      <th>Injury</th>\n",
       "      <th>Species</th>\n",
       "    </tr>\n",
       "  </thead>\n",
       "  <tbody>\n",
       "    <tr>\n",
       "      <th>0</th>\n",
       "      <td>2018.0</td>\n",
       "      <td>USA</td>\n",
       "      <td>California</td>\n",
       "      <td>Oceanside, San Diego County</td>\n",
       "      <td>Paddling</td>\n",
       "      <td>N</td>\n",
       "      <td>No injury to occupant, outrigger canoe and pad...</td>\n",
       "      <td>White shark</td>\n",
       "    </tr>\n",
       "    <tr>\n",
       "      <th>1</th>\n",
       "      <td>2018.0</td>\n",
       "      <td>USA</td>\n",
       "      <td>Georgia</td>\n",
       "      <td>St. Simon Island, Glynn County</td>\n",
       "      <td>Standing</td>\n",
       "      <td>N</td>\n",
       "      <td>Minor injury to left thigh</td>\n",
       "      <td>NaN</td>\n",
       "    </tr>\n",
       "    <tr>\n",
       "      <th>2</th>\n",
       "      <td>2018.0</td>\n",
       "      <td>USA</td>\n",
       "      <td>Hawaii</td>\n",
       "      <td>Habush, Oahu</td>\n",
       "      <td>Surfing</td>\n",
       "      <td>N</td>\n",
       "      <td>Injury to left lower leg from surfboard skeg</td>\n",
       "      <td>NaN</td>\n",
       "    </tr>\n",
       "    <tr>\n",
       "      <th>3</th>\n",
       "      <td>2018.0</td>\n",
       "      <td>AUSTRALIA</td>\n",
       "      <td>New South Wales</td>\n",
       "      <td>Arrawarra Headland</td>\n",
       "      <td>Surfing</td>\n",
       "      <td>N</td>\n",
       "      <td>Minor injury to lower leg</td>\n",
       "      <td>2 m shark</td>\n",
       "    </tr>\n",
       "    <tr>\n",
       "      <th>4</th>\n",
       "      <td>2018.0</td>\n",
       "      <td>MEXICO</td>\n",
       "      <td>Colima</td>\n",
       "      <td>La Ticla</td>\n",
       "      <td>Free diving</td>\n",
       "      <td>N</td>\n",
       "      <td>Lacerations to leg &amp; hand shark PROVOKED INCIDENT</td>\n",
       "      <td>Tiger shark, 3m</td>\n",
       "    </tr>\n",
       "  </tbody>\n",
       "</table>\n",
       "</div>"
      ],
      "text/plain": [
       "     Year    Country             Area                        Location  \\\n",
       "0  2018.0        USA       California     Oceanside, San Diego County   \n",
       "1  2018.0        USA          Georgia  St. Simon Island, Glynn County   \n",
       "2  2018.0        USA           Hawaii                    Habush, Oahu   \n",
       "3  2018.0  AUSTRALIA  New South Wales              Arrawarra Headland   \n",
       "4  2018.0     MEXICO           Colima                        La Ticla   \n",
       "\n",
       "      Activity Fatal (Y/N)                                             Injury  \\\n",
       "0     Paddling           N  No injury to occupant, outrigger canoe and pad...   \n",
       "1     Standing           N                         Minor injury to left thigh   \n",
       "2      Surfing           N       Injury to left lower leg from surfboard skeg   \n",
       "3      Surfing           N                          Minor injury to lower leg   \n",
       "4  Free diving           N  Lacerations to leg & hand shark PROVOKED INCIDENT   \n",
       "\n",
       "          Species   \n",
       "0      White shark  \n",
       "1              NaN  \n",
       "2              NaN  \n",
       "3        2 m shark  \n",
       "4  Tiger shark, 3m  "
      ]
     },
     "execution_count": 9,
     "metadata": {},
     "output_type": "execute_result"
    }
   ],
   "source": [
    "# Check small Dataset\n",
    "small_df.head(5)"
   ]
  },
  {
   "cell_type": "code",
   "execution_count": 10,
   "metadata": {},
   "outputs": [],
   "source": [
    "# Remove row where all values are None\n",
    "small_df = small_df.dropna(how='all') "
   ]
  },
  {
   "cell_type": "code",
   "execution_count": 11,
   "metadata": {},
   "outputs": [
    {
     "name": "stdout",
     "output_type": "stream",
     "text": [
      "Year           float64\n",
      "Country         object\n",
      "Area            object\n",
      "Location        object\n",
      "Activity        object\n",
      "Fatal (Y/N)     object\n",
      "Injury          object\n",
      "Species         object\n",
      "dtype: object\n"
     ]
    }
   ],
   "source": [
    "# Show you the datatype of every columns\n",
    "dataTypeSeries = small_df.dtypes\n",
    "print(dataTypeSeries)"
   ]
  },
  {
   "cell_type": "code",
   "execution_count": 12,
   "metadata": {},
   "outputs": [],
   "source": [
    "# WARNING\n",
    "# This command expand the output display to see more columns of a pandas DataFrame\n",
    "#-----------------------pd.set_option('display.max_rows', None)"
   ]
  },
  {
   "cell_type": "markdown",
   "metadata": {},
   "source": [
    "##  Dataframe filtering process 2/2"
   ]
  },
  {
   "cell_type": "markdown",
   "metadata": {},
   "source": [
    "Column by column you will have to clean the data, group it into categories.\n",
    "Above all, be careful not to lose important data in this selection process"
   ]
  },
  {
   "cell_type": "code",
   "execution_count": 13,
   "metadata": {},
   "outputs": [
    {
     "data": {
      "text/plain": [
       "NaN                                                   2838\n",
       "White shark                                            163\n",
       "Shark involvement prior to death was not confirmed     105\n",
       "Invalid                                                102\n",
       "Shark involvement not confirmed                         88\n",
       "Tiger shark                                             73\n",
       "Shark involvement prior to death unconfirmed            68\n",
       "Bull shark                                              52\n",
       "4' shark                                                40\n",
       "6' shark                                                40\n",
       "1.8 m [6'] shark                                        35\n",
       "Questionable incident                                   35\n",
       "Questionable                                            34\n",
       "1.5 m [5'] shark                                        32\n",
       "1.2 m [4'] shark                                        27\n",
       "5' shark                                                26\n",
       "3' shark                                                26\n",
       "2 m shark                                               25\n",
       "4' to 5' shark                                          24\n",
       "3 m [10'] shark                                         22\n",
       "Name: Species , dtype: int64"
      ]
     },
     "metadata": {},
     "output_type": "display_data"
    }
   ],
   "source": [
    "# Analyze a series and check how to reorganize the data; \n",
    "# look for information common to the recurring fields or patterns\n",
    "display(small_df['Species '].value_counts(dropna = False).head(20))"
   ]
  },
  {
   "cell_type": "code",
   "execution_count": 14,
   "metadata": {},
   "outputs": [],
   "source": [
    "# It is possible to find the NaN values and change them\n",
    "small_df['Species '] = small_df['Species '].fillna('No Values')\n",
    "# as well as changing the name of a column\n",
    "small_df = small_df.rename({'Species ':'Species'}, axis=1)"
   ]
  },
  {
   "cell_type": "markdown",
   "metadata": {},
   "source": [
    "##  Classification method of the column *'Species'*\n",
    "Below is the work organization methodology\n",
    "\n",
    "It has been chosen to maintain **16 species of sharks**, which reflect almost all of the shark population present in this dataset.\n",
    "Incomplete or missing data will be placed in a special *Other* category. It was decided to include in this category also sharks that had only the information of size for two issues:\n",
    "* The species was not reliable only on the basis of the size of the revelation (present in meters and in feet).\n",
    "* Often an absolute measurement is not provided, but there is a range, easily overlapping between categories"
   ]
  },
  {
   "cell_type": "code",
   "execution_count": 15,
   "metadata": {},
   "outputs": [],
   "source": [
    "# The 16 species of sharks have been placed in a string. \n",
    "#The data of the species column will be iterated, to search in each row for matches with these keywords. \n",
    "#If matches are found the shark will be classified in that species, otherwise it will be classified as 'Other'\n",
    "\n",
    "shark_species = '''White Tiger Bull Blacktip Blue Mako Bronze Raggedtooth Nurse Grey Zambesi Hammerhead\n",
    "                Sandtiger Basking Lemon Spinner'''\n",
    "\n",
    "shark_column = []\n",
    "\n",
    "\n",
    "# Run the function categorize_shark_column to clear the column data           \n",
    "categorize_shark_column(shark_species, shark_column, *small_df['Species'])\n",
    "\n",
    "# At this point the column is overwritten, which will contain the new data\n",
    "small_df['Species'] = shark_column"
   ]
  },
  {
   "cell_type": "code",
   "execution_count": 16,
   "metadata": {},
   "outputs": [
    {
     "data": {
      "text/plain": [
       "No Values         2840\n",
       "Other             1788\n",
       "White shark        635\n",
       "Tiger shark        255\n",
       "Bull shark         182\n",
       "Blacktip shark      98\n",
       "Bronze shark        66\n",
       "Grey shark          57\n",
       "Nurse shark         57\n",
       "Mako shark          55\n",
       "Name: Species, dtype: int64"
      ]
     },
     "metadata": {},
     "output_type": "display_data"
    }
   ],
   "source": [
    "# Check the results. The data are much less scattered\n",
    "# The resulting object will be in descending order so that the first element is the most frequently-occurring \n",
    "#element. Excludes NA values by default (dropna = False to change this).\n",
    "display(small_df['Species'].value_counts(dropna = False).head(10))"
   ]
  },
  {
   "cell_type": "markdown",
   "metadata": {},
   "source": [
    "##  Classification method of the column *'Activities'*\n",
    "Below is the work organization methodology\n",
    "\n",
    "It has been chosen to maintain **14 activities**, which reflect almost all the main cases reported in this dataset\n",
    "Incomplete or missing data will be placed in a special *Other* category."
   ]
  },
  {
   "cell_type": "code",
   "execution_count": 17,
   "metadata": {},
   "outputs": [
    {
     "data": {
      "text/plain": [
       "Surfing         971\n",
       "Swimming        869\n",
       "NaN             544\n",
       "Fishing         431\n",
       "Spearfishing    333\n",
       "Bathing         162\n",
       "Wading          149\n",
       "Diving          127\n",
       "Standing         99\n",
       "Snorkeling       89\n",
       "Name: Activity, dtype: int64"
      ]
     },
     "metadata": {},
     "output_type": "display_data"
    }
   ],
   "source": [
    "# The results seem quite ordered, but if we expand the data there are more than 300 different values.\n",
    "display(small_df.Activity.value_counts(dropna = False).head(10))"
   ]
  },
  {
   "cell_type": "code",
   "execution_count": 18,
   "metadata": {},
   "outputs": [],
   "source": [
    "# Find the NaN values and change them\n",
    "small_df['Activity'] = small_df['Activity'].fillna('No Values')\n",
    "\n",
    "# Basically the same previous methodology\n",
    "\n",
    "categories = '''Surfing Swimming Fishing Spearfishing Bathing Wading Diving \n",
    "                Standing Snorkeling Kite Scuba Boarding Kayaking Windsurfing'''\n",
    "\n",
    "# Run the function categorize_activity_column to clear the column data  \n",
    "activities_column = []\n",
    "            \n",
    "categorize_activity_column(categories, activities_column, *small_df['Activity'])\n",
    "small_df['Activity'] = activities_column"
   ]
  },
  {
   "cell_type": "code",
   "execution_count": 19,
   "metadata": {},
   "outputs": [
    {
     "data": {
      "text/plain": [
       "Other    1536\n",
       "Surf     1165\n",
       "Swim     1108\n",
       "Fish      704\n",
       "Spea      416\n",
       "Divi      406\n",
       "Bath      190\n",
       "Wadi      168\n",
       "Boar      147\n",
       "Stan      145\n",
       "Scub      123\n",
       "Snor       94\n",
       "Kaya       57\n",
       "Wind       22\n",
       "Kite       21\n",
       "Name: Activity, dtype: int64"
      ]
     },
     "metadata": {},
     "output_type": "display_data"
    }
   ],
   "source": [
    "display(small_df.Activity.value_counts())"
   ]
  },
  {
   "cell_type": "code",
   "execution_count": 20,
   "metadata": {},
   "outputs": [
    {
     "name": "stderr",
     "output_type": "stream",
     "text": [
      "/home/must4in3/Desktop/Ironhack_Project/1 - Project - Shark/SharkPandas/function.py:34: SettingWithCopyWarning: \n",
      "A value is trying to be set on a copy of a slice from a DataFrame\n",
      "\n",
      "See the caveats in the documentation: https://pandas.pydata.org/pandas-docs/stable/user_guide/indexing.html#returning-a-view-versus-a-copy\n",
      "  Dataset[f\"{str_name_column}\"][Dataset[f\"{str_name_column}\"].str.startswith(f\"{c[:4]}\")] = f\"{c}\"\n"
     ]
    }
   ],
   "source": [
    "# The correspondence of the words was made using only the first 4 letters, \n",
    "# because of too many different variations between the words (infinitive or -ing type).\n",
    "# For this it's better to update the previously assigned name\n",
    "# Run the function update_categories_values_table to clear the column data  \n",
    "\n",
    "update_categories_values_table('Activity',small_df, categories)"
   ]
  },
  {
   "cell_type": "code",
   "execution_count": 21,
   "metadata": {},
   "outputs": [
    {
     "data": {
      "text/html": [
       "<div>\n",
       "<style scoped>\n",
       "    .dataframe tbody tr th:only-of-type {\n",
       "        vertical-align: middle;\n",
       "    }\n",
       "\n",
       "    .dataframe tbody tr th {\n",
       "        vertical-align: top;\n",
       "    }\n",
       "\n",
       "    .dataframe thead th {\n",
       "        text-align: right;\n",
       "    }\n",
       "</style>\n",
       "<table border=\"1\" class=\"dataframe\">\n",
       "  <thead>\n",
       "    <tr style=\"text-align: right;\">\n",
       "      <th></th>\n",
       "      <th>Year</th>\n",
       "      <th>Country</th>\n",
       "      <th>Area</th>\n",
       "      <th>Location</th>\n",
       "      <th>Activity</th>\n",
       "      <th>Fatal (Y/N)</th>\n",
       "      <th>Injury</th>\n",
       "      <th>Species</th>\n",
       "    </tr>\n",
       "  </thead>\n",
       "  <tbody>\n",
       "    <tr>\n",
       "      <th>0</th>\n",
       "      <td>2018.0</td>\n",
       "      <td>USA</td>\n",
       "      <td>California</td>\n",
       "      <td>Oceanside, San Diego County</td>\n",
       "      <td>Other</td>\n",
       "      <td>N</td>\n",
       "      <td>No injury to occupant, outrigger canoe and pad...</td>\n",
       "      <td>White shark</td>\n",
       "    </tr>\n",
       "    <tr>\n",
       "      <th>1</th>\n",
       "      <td>2018.0</td>\n",
       "      <td>USA</td>\n",
       "      <td>Georgia</td>\n",
       "      <td>St. Simon Island, Glynn County</td>\n",
       "      <td>Standing</td>\n",
       "      <td>N</td>\n",
       "      <td>Minor injury to left thigh</td>\n",
       "      <td>No Values</td>\n",
       "    </tr>\n",
       "    <tr>\n",
       "      <th>2</th>\n",
       "      <td>2018.0</td>\n",
       "      <td>USA</td>\n",
       "      <td>Hawaii</td>\n",
       "      <td>Habush, Oahu</td>\n",
       "      <td>Surfing</td>\n",
       "      <td>N</td>\n",
       "      <td>Injury to left lower leg from surfboard skeg</td>\n",
       "      <td>No Values</td>\n",
       "    </tr>\n",
       "    <tr>\n",
       "      <th>3</th>\n",
       "      <td>2018.0</td>\n",
       "      <td>AUSTRALIA</td>\n",
       "      <td>New South Wales</td>\n",
       "      <td>Arrawarra Headland</td>\n",
       "      <td>Surfing</td>\n",
       "      <td>N</td>\n",
       "      <td>Minor injury to lower leg</td>\n",
       "      <td>Other</td>\n",
       "    </tr>\n",
       "    <tr>\n",
       "      <th>4</th>\n",
       "      <td>2018.0</td>\n",
       "      <td>MEXICO</td>\n",
       "      <td>Colima</td>\n",
       "      <td>La Ticla</td>\n",
       "      <td>Diving</td>\n",
       "      <td>N</td>\n",
       "      <td>Lacerations to leg &amp; hand shark PROVOKED INCIDENT</td>\n",
       "      <td>Tiger shark</td>\n",
       "    </tr>\n",
       "  </tbody>\n",
       "</table>\n",
       "</div>"
      ],
      "text/plain": [
       "     Year    Country             Area                        Location  \\\n",
       "0  2018.0        USA       California     Oceanside, San Diego County   \n",
       "1  2018.0        USA          Georgia  St. Simon Island, Glynn County   \n",
       "2  2018.0        USA           Hawaii                    Habush, Oahu   \n",
       "3  2018.0  AUSTRALIA  New South Wales              Arrawarra Headland   \n",
       "4  2018.0     MEXICO           Colima                        La Ticla   \n",
       "\n",
       "   Activity Fatal (Y/N)                                             Injury  \\\n",
       "0     Other           N  No injury to occupant, outrigger canoe and pad...   \n",
       "1  Standing           N                         Minor injury to left thigh   \n",
       "2   Surfing           N       Injury to left lower leg from surfboard skeg   \n",
       "3   Surfing           N                          Minor injury to lower leg   \n",
       "4    Diving           N  Lacerations to leg & hand shark PROVOKED INCIDENT   \n",
       "\n",
       "       Species  \n",
       "0  White shark  \n",
       "1    No Values  \n",
       "2    No Values  \n",
       "3        Other  \n",
       "4  Tiger shark  "
      ]
     },
     "metadata": {},
     "output_type": "display_data"
    }
   ],
   "source": [
    "display(small_df.head(5))"
   ]
  },
  {
   "cell_type": "code",
   "execution_count": 22,
   "metadata": {},
   "outputs": [
    {
     "data": {
      "text/plain": [
       "Other           1536\n",
       "Surfing         1165\n",
       "Swimming        1108\n",
       "Fishing          704\n",
       "Spearfishing     416\n",
       "Diving           406\n",
       "Bathing          190\n",
       "Wading           168\n",
       "Boarding         147\n",
       "Standing         145\n",
       "Name: Activity, dtype: int64"
      ]
     },
     "metadata": {},
     "output_type": "display_data"
    }
   ],
   "source": [
    "# Column check\n",
    "display(small_df.Activity.value_counts(dropna = False).head(10))"
   ]
  },
  {
   "cell_type": "code",
   "execution_count": 23,
   "metadata": {},
   "outputs": [],
   "source": [
    "# Export table\n",
    "small_df.to_csv('output/clean_shark_table.csv')"
   ]
  },
  {
   "cell_type": "markdown",
   "metadata": {},
   "source": [
    "##  Classification method of the column *'Injury'*"
   ]
  },
  {
   "cell_type": "code",
   "execution_count": 24,
   "metadata": {},
   "outputs": [
    {
     "data": {
      "text/plain": [
       "FATAL                      802\n",
       "Survived                    97\n",
       "Foot bitten                 87\n",
       "No injury                   82\n",
       "Leg bitten                  72\n",
       "Left foot bitten            50\n",
       "No details                  43\n",
       "Right foot bitten           39\n",
       "No injury, board bitten     31\n",
       "Hand bitten                 29\n",
       "Name: Injury, dtype: int64"
      ]
     },
     "execution_count": 24,
     "metadata": {},
     "output_type": "execute_result"
    }
   ],
   "source": [
    "small_df[\"Injury\"].value_counts().head(10)"
   ]
  },
  {
   "cell_type": "code",
   "execution_count": 25,
   "metadata": {
    "scrolled": true
   },
   "outputs": [],
   "source": [
    "# Find the NaN values and change them\n",
    "small_df['Injury'] = small_df['Injury'].fillna('No Values')\n",
    "\n",
    "# IMPORTANT\n",
    "#Another way to update the columns is as follows:\n",
    "#The problem with this methodology is that it categorizes the type of injury with a single attribute, \n",
    "#when instead at the time of the accident various parts of the body may be involved\n",
    "\n",
    "#for c in categories:\n",
    "#    small_df[\"Injury\"][small_df['Injury'].str.contains(f'{c}|{c.lower()}|{c.upper()}|{c.title()}')] = f'{c}'\n",
    "\n",
    "\n",
    "# So basically I used the same previous methodology\n",
    "\n",
    "categories_1 = ['Fatal', 'Survived', 'Foot', 'No injury', 'Leg', 'Hand', 'Buttock', 'Finger', 'Head', 'Hip',\n",
    "              'Thigh', 'Calf', 'Arm', 'Ankle', 'Heel', 'Torso', 'Elbow', 'Back', 'Knee', 'Chest', 'Toe']\n",
    "\n",
    "\n",
    "activities_column = []        \n",
    "                \n",
    "categorize_injury_column(categories_1, activities_column, *small_df['Injury'])\n",
    "small_df[\"Injury\"] = activities_column\n"
   ]
  },
  {
   "cell_type": "code",
   "execution_count": 26,
   "metadata": {},
   "outputs": [
    {
     "data": {
      "text/plain": [
       "Fatal        1040\n",
       "Unknown       777\n",
       "No Injury     766\n",
       "Foot          551\n",
       "Leg           543\n",
       "Arm           348\n",
       "Hand          272\n",
       "Thigh         208\n",
       "Calf          162\n",
       "Survived      130\n",
       "Name: Injury, dtype: int64"
      ]
     },
     "execution_count": 26,
     "metadata": {},
     "output_type": "execute_result"
    }
   ],
   "source": [
    "small_df[\"Injury\"].value_counts().head(10)"
   ]
  },
  {
   "cell_type": "code",
   "execution_count": 27,
   "metadata": {},
   "outputs": [
    {
     "data": {
      "text/html": [
       "<div>\n",
       "<style scoped>\n",
       "    .dataframe tbody tr th:only-of-type {\n",
       "        vertical-align: middle;\n",
       "    }\n",
       "\n",
       "    .dataframe tbody tr th {\n",
       "        vertical-align: top;\n",
       "    }\n",
       "\n",
       "    .dataframe thead th {\n",
       "        text-align: right;\n",
       "    }\n",
       "</style>\n",
       "<table border=\"1\" class=\"dataframe\">\n",
       "  <thead>\n",
       "    <tr style=\"text-align: right;\">\n",
       "      <th></th>\n",
       "      <th>Year</th>\n",
       "      <th>Country</th>\n",
       "      <th>Area</th>\n",
       "      <th>Location</th>\n",
       "      <th>Activity</th>\n",
       "      <th>Fatal (Y/N)</th>\n",
       "      <th>Injury</th>\n",
       "      <th>Species</th>\n",
       "    </tr>\n",
       "  </thead>\n",
       "  <tbody>\n",
       "    <tr>\n",
       "      <th>0</th>\n",
       "      <td>2018.0</td>\n",
       "      <td>USA</td>\n",
       "      <td>California</td>\n",
       "      <td>Oceanside, San Diego County</td>\n",
       "      <td>Other</td>\n",
       "      <td>N</td>\n",
       "      <td>No Injury</td>\n",
       "      <td>White shark</td>\n",
       "    </tr>\n",
       "    <tr>\n",
       "      <th>1</th>\n",
       "      <td>2018.0</td>\n",
       "      <td>USA</td>\n",
       "      <td>Georgia</td>\n",
       "      <td>St. Simon Island, Glynn County</td>\n",
       "      <td>Standing</td>\n",
       "      <td>N</td>\n",
       "      <td>Thigh</td>\n",
       "      <td>No Values</td>\n",
       "    </tr>\n",
       "    <tr>\n",
       "      <th>2</th>\n",
       "      <td>2018.0</td>\n",
       "      <td>USA</td>\n",
       "      <td>Hawaii</td>\n",
       "      <td>Habush, Oahu</td>\n",
       "      <td>Surfing</td>\n",
       "      <td>N</td>\n",
       "      <td>Leg</td>\n",
       "      <td>No Values</td>\n",
       "    </tr>\n",
       "    <tr>\n",
       "      <th>3</th>\n",
       "      <td>2018.0</td>\n",
       "      <td>AUSTRALIA</td>\n",
       "      <td>New South Wales</td>\n",
       "      <td>Arrawarra Headland</td>\n",
       "      <td>Surfing</td>\n",
       "      <td>N</td>\n",
       "      <td>Leg</td>\n",
       "      <td>Other</td>\n",
       "    </tr>\n",
       "    <tr>\n",
       "      <th>4</th>\n",
       "      <td>2018.0</td>\n",
       "      <td>MEXICO</td>\n",
       "      <td>Colima</td>\n",
       "      <td>La Ticla</td>\n",
       "      <td>Diving</td>\n",
       "      <td>N</td>\n",
       "      <td>Leg Hand</td>\n",
       "      <td>Tiger shark</td>\n",
       "    </tr>\n",
       "  </tbody>\n",
       "</table>\n",
       "</div>"
      ],
      "text/plain": [
       "     Year    Country             Area                        Location  \\\n",
       "0  2018.0        USA       California     Oceanside, San Diego County   \n",
       "1  2018.0        USA          Georgia  St. Simon Island, Glynn County   \n",
       "2  2018.0        USA           Hawaii                    Habush, Oahu   \n",
       "3  2018.0  AUSTRALIA  New South Wales              Arrawarra Headland   \n",
       "4  2018.0     MEXICO           Colima                        La Ticla   \n",
       "\n",
       "   Activity Fatal (Y/N)     Injury      Species  \n",
       "0     Other           N  No Injury  White shark  \n",
       "1  Standing           N      Thigh    No Values  \n",
       "2   Surfing           N        Leg    No Values  \n",
       "3   Surfing           N        Leg        Other  \n",
       "4    Diving           N   Leg Hand  Tiger shark  "
      ]
     },
     "metadata": {},
     "output_type": "display_data"
    }
   ],
   "source": [
    "# Final Step Data Cleaning\n",
    "display(small_df.head())"
   ]
  },
  {
   "cell_type": "markdown",
   "metadata": {},
   "source": [
    "##  Data analysis\n",
    "\n",
    "First we want to analyze the data of the last 50 years, to try to understand the magnitude of the phenomenon.\n",
    "Let us first look for the three nations where shark attacks occurred most frequently.\n",
    "Finding the geographic area among the most affected in the world will allow us to quickly reach the target of the job, and make our hypotheses"
   ]
  },
  {
   "cell_type": "markdown",
   "metadata": {},
   "source": [
    "##  We are looking for the Country with the most shark attacks in the past 50 years"
   ]
  },
  {
   "cell_type": "code",
   "execution_count": 28,
   "metadata": {},
   "outputs": [],
   "source": [
    "# Create a sub-Dataset\n",
    "shark_attack_after1950 = small_df[(small_df[\"Year\"] >= 1950)]"
   ]
  },
  {
   "cell_type": "code",
   "execution_count": 29,
   "metadata": {},
   "outputs": [
    {
     "data": {
      "text/html": [
       "<div>\n",
       "<style scoped>\n",
       "    .dataframe tbody tr th:only-of-type {\n",
       "        vertical-align: middle;\n",
       "    }\n",
       "\n",
       "    .dataframe tbody tr th {\n",
       "        vertical-align: top;\n",
       "    }\n",
       "\n",
       "    .dataframe thead th {\n",
       "        text-align: right;\n",
       "    }\n",
       "</style>\n",
       "<table border=\"1\" class=\"dataframe\">\n",
       "  <thead>\n",
       "    <tr style=\"text-align: right;\">\n",
       "      <th></th>\n",
       "      <th>Activity</th>\n",
       "    </tr>\n",
       "    <tr>\n",
       "      <th>Country</th>\n",
       "      <th></th>\n",
       "    </tr>\n",
       "  </thead>\n",
       "  <tbody>\n",
       "    <tr>\n",
       "      <th>USA</th>\n",
       "      <td>1870</td>\n",
       "    </tr>\n",
       "    <tr>\n",
       "      <th>AUSTRALIA</th>\n",
       "      <td>800</td>\n",
       "    </tr>\n",
       "    <tr>\n",
       "      <th>SOUTH AFRICA</th>\n",
       "      <td>469</td>\n",
       "    </tr>\n",
       "  </tbody>\n",
       "</table>\n",
       "</div>"
      ],
      "text/plain": [
       "              Activity\n",
       "Country               \n",
       "USA               1870\n",
       "AUSTRALIA          800\n",
       "SOUTH AFRICA       469"
      ]
     },
     "metadata": {},
     "output_type": "display_data"
    }
   ],
   "source": [
    "# Group DataFrame using a mapper or by a Series of columns.\n",
    "# Aggregate using one or more operations over the specified axis.\n",
    "country_analysis = shark_attack_after1950.groupby(\"Country\").agg({'Activity':\"count\"})\n",
    "display(country_analysis.sort_values(by=['Activity'], ascending = False).head(3))"
   ]
  },
  {
   "cell_type": "code",
   "execution_count": 30,
   "metadata": {},
   "outputs": [],
   "source": [
    "# Create 3 sub-sets of these 3 countries to display them with a line graph and visually compare the results\n",
    "filtered_Usa = shark_attack_after1950[(shark_attack_after1950['Country']=='USA')] \n",
    "filtered_Australia = shark_attack_after1950[(shark_attack_after1950['Country']=='AUSTRALIA' )]\n",
    "filtered_South_Africa = shark_attack_after1950[(shark_attack_after1950['Country']=='SOUTH AFRICA')]"
   ]
  },
  {
   "cell_type": "code",
   "execution_count": 31,
   "metadata": {},
   "outputs": [
    {
     "data": {
      "text/plain": [
       "Text(0.5, 0, 'Years')"
      ]
     },
     "execution_count": 31,
     "metadata": {},
     "output_type": "execute_result"
    },
    {
     "data": {
      "image/png": "[encoded data removed]",
      "text/plain": [
       "<Figure size 432x288 with 1 Axes>"
      ]
     },
     "metadata": {
      "needs_background": "light"
     },
     "output_type": "display_data"
    }
   ],
   "source": [
    "# USA\n",
    "%matplotlib inline\n",
    "usa_graph = filtered_Usa.Year.value_counts().sort_index().plot(linewidth=2, markersize=12)\n",
    "filtered_Australia.Year.value_counts().sort_index().plot(linewidth=2, markersize=12)\n",
    "filtered_South_Africa.Year.value_counts().sort_index().plot(linewidth=2, markersize=12)\n",
    "# Insert legend, title, xy labels\n",
    "usa_graph.legend(['USA','AUSTRALIA','SOUTH AFRICA'])\n",
    "usa_graph.set_title('Number of Shark Attacks')\n",
    "usa_graph.set_ylabel('N. Attacks')\n",
    "usa_graph.set_xlabel('Years')\n",
    "#USA is the country with the most shark attacks in the past 50 years. \n",
    "#The data of the last year make us think of an outlier value, on average they are always considerably higher \n",
    "# than in South Africa and Australia"
   ]
  },
  {
   "cell_type": "markdown",
   "metadata": {},
   "source": [
    "##  Total number of Shark attacks in the past 50 years in every counties of the US"
   ]
  },
  {
   "cell_type": "code",
   "execution_count": 32,
   "metadata": {},
   "outputs": [
    {
     "data": {
      "text/plain": [
       "<matplotlib.axes._subplots.AxesSubplot at 0x7fc2fb47fc50>"
      ]
     },
     "metadata": {},
     "output_type": "display_data"
    },
    {
     "data": {
      "image/png": "[encoded data removed]",
      "text/plain": [
       "<Figure size 432x288 with 1 Axes>"
      ]
     },
     "metadata": {
      "needs_background": "light"
     },
     "output_type": "display_data"
    }
   ],
   "source": [
    "# Bar chart showing the situation in the counties of the US. \n",
    "# Only the top 10 sorted by number of cases are represented in the graph\n",
    "counties_US_graph = filtered_Usa['Area'].value_counts().head(10).sort_index().plot.bar()\n",
    "counties_US_graph.set_title('Number of Shark Attacks for Area')\n",
    "counties_US_graph.set_xlabel('Area')\n",
    "counties_US_graph.set_ylabel('N. Attacks')\n",
    "display(counties_US_graph)"
   ]
  },
  {
   "cell_type": "markdown",
   "metadata": {},
   "source": [
    "##  Geolocation of shark attacks on Florida beaches\n",
    "The table contains detailed information on the location of the area in which the attack took place.\n",
    "Using geopandas, geopy and a module called Nominatim it is possible to trace the geographical coordinates of these places, in order to map the individual events"
   ]
  },
  {
   "cell_type": "code",
   "execution_count": 33,
   "metadata": {},
   "outputs": [],
   "source": [
    "# Create 4 variables and in each of them we save the information of each useful column.\n",
    "#The zip method will allow us to gather all the data together\n",
    "df_Florida = filtered_Usa[(filtered_Usa[\"Area\"] == 'Florida')]\n",
    "address = (df_Florida['Location'].tolist())\n",
    "area =(df_Florida['Area'].tolist())\n",
    "activity = (df_Florida['Activity'].tolist())\n",
    "species = (df_Florida['Species'].tolist())\n",
    "address_complete = (list(zip(address, area)))\n",
    "other_info = list(zip(activity, species))"
   ]
  },
  {
   "cell_type": "code",
   "execution_count": 34,
   "metadata": {},
   "outputs": [
    {
     "name": "stderr",
     "output_type": "stream",
     "text": [
      "/home/must4in3/anaconda3/lib/python3.7/site-packages/ipykernel_launcher.py:1: DeprecationWarning: Using Nominatim with the default \"geopy/1.22.0\" `user_agent` is strongly discouraged, as it violates Nominatim's ToS https://operations.osmfoundation.org/policies/nominatim/ and may possibly cause 403 and 429 HTTP errors. Please specify a custom `user_agent` with `Nominatim(user_agent=\"my-application\")` or by overriding the default `user_agent`: `geopy.geocoders.options.default_user_agent = \"my-application\"`. In geopy 2.0 this will become an exception.\n",
      "  \"\"\"Entry point for launching an IPython kernel.\n"
     ]
    }
   ],
   "source": [
    "geolocator = Nominatim()"
   ]
  },
  {
   "cell_type": "code",
   "execution_count": 35,
   "metadata": {},
   "outputs": [],
   "source": [
    "# Each event will be displayed with a circle on the map.\n",
    "# The color of each circle will be different depending on the person's activity at the time of the event.\n",
    "# In this way we would have a clear overview of the magnitude of the events\n",
    "# For this reason, a dictionary is created that associates a color with each activity\n",
    "color_activity = {'Surfing': 'red', 'Swimming':'blue', 'Fishing':'yellow', \n",
    "                  'Spearfishing': 'black', 'Bathing':'gray', 'Wading': 'pink' ,\n",
    "                  'Diving': 'black','Standing':'orange', 'Snorkeling': 'white',\n",
    "                  'Kite': 'violet', 'Scuba':'green', 'Boarding': 'brown',\n",
    "                  'Kayaking': 'teal', 'Windsurfing': 'purple', 'Other':'cyan'}\n",
    "\n",
    "# We create a loop that allows us to iterate all the addresses extracted previously, and receive the \n",
    "#latitude and longitude information and save it in another dictionary.\n",
    "# I only extract the first 40 coordinates as a test\n",
    "geo_address = {}\n",
    "\n",
    "for i,x in enumerate(address_complete[:40]):\n",
    "    try:\n",
    "        loc = geolocator.geocode(f'{x[0]},{x[1]}')\n",
    "        geo_address[f'{x}'] = {\"latitude\" : loc.latitude, \"longitude\" : loc.longitude, \n",
    "        \"Activity \": f'{other_info[i][0]}', \"Species \": f'{other_info[i][1]}', \n",
    "        'Color': str(color_activity[f'{other_info[i][0]}'])}\n",
    "        geo_address.append(geo)\n",
    "    except:\n",
    "        continue\n"
   ]
  },
  {
   "cell_type": "code",
   "execution_count": 36,
   "metadata": {},
   "outputs": [],
   "source": [
    "# check information\n",
    "#print(geo_address)"
   ]
  },
  {
   "cell_type": "code",
   "execution_count": 37,
   "metadata": {},
   "outputs": [],
   "source": [
    "# Construct DataFrame from dict of array-like or dicts.\n",
    "# Creates DataFrame object from dictionary by columns or by index allowing dtype specification.\n",
    "geo_table = pd.DataFrame.from_dict(geo_address).T\n",
    "#geo_table.index"
   ]
  },
  {
   "cell_type": "markdown",
   "metadata": {},
   "source": [
    "##  Create the Geo-Shark Map"
   ]
  },
  {
   "cell_type": "code",
   "execution_count": 38,
   "metadata": {},
   "outputs": [
    {
     "data": {
      "text/html": [
       "<div style=\"width:100%;\"><div style=\"position:relative;width:100%;height:0;padding-bottom:60%;\"><iframe src=\"about:blank\" style=\"position:absolute;width:100%;height:100%;left:0;top:0;border:none !important;\" data-html=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 onload=\"this.contentDocument.open();this.contentDocument.write(atob(this.getAttribute('data-html')));this.contentDocument.close();\" allowfullscreen webkitallowfullscreen mozallowfullscreen></iframe></div></div>"
      ],
      "text/plain": [
       "<folium.folium.Map at 0x7fc2fb3f5150>"
      ]
     },
     "execution_count": 38,
     "metadata": {},
     "output_type": "execute_result"
    }
   ],
   "source": [
    "# Create the map by importing the folium library.\n",
    "# The .apply function, which in turn contains an anonymous lambda function, uses all the addresses \n",
    "# and places them on the map.\n",
    "# The settings in folium.CircleMarker allow you to geolocate the point, change its color and other properties, \n",
    "# while folium.Popup to choose what information we want to display on the map.\n",
    "map1 = folium.Map(\n",
    "    location=[28.68150735, -80.65060425561052],\n",
    "    tiles='cartodbpositron',\n",
    "    zoom_start=6,\n",
    ")\n",
    "geo_table.apply(lambda row:folium.CircleMarker(location=[row[\"latitude\"], row[\"longitude\"]], color = row[\"Color\"]).add_child(folium.Popup(f'{row[\"latitude\"], row[\"longitude\"]}')).add_to(map1), axis=1)\n",
    "map1\n",
    "\n",
    "# IMPORTANT \n",
    "# The map may not be visible here.\n",
    "# If there are any display problems, go back to rerun the code or look in the output folder for an example"
   ]
  },
  {
   "cell_type": "markdown",
   "metadata": {},
   "source": [
    "##  Frequency of shark attacks according to the activity"
   ]
  },
  {
   "cell_type": "code",
   "execution_count": 39,
   "metadata": {},
   "outputs": [
    {
     "data": {
      "text/html": [
       "<div>\n",
       "<style scoped>\n",
       "    .dataframe tbody tr th:only-of-type {\n",
       "        vertical-align: middle;\n",
       "    }\n",
       "\n",
       "    .dataframe tbody tr th {\n",
       "        vertical-align: top;\n",
       "    }\n",
       "\n",
       "    .dataframe thead th {\n",
       "        text-align: right;\n",
       "    }\n",
       "</style>\n",
       "<table border=\"1\" class=\"dataframe\">\n",
       "  <thead>\n",
       "    <tr style=\"text-align: right;\">\n",
       "      <th></th>\n",
       "      <th></th>\n",
       "      <th>N.events</th>\n",
       "      <th>% Frequency</th>\n",
       "    </tr>\n",
       "    <tr>\n",
       "      <th>Area</th>\n",
       "      <th>Activity</th>\n",
       "      <th></th>\n",
       "      <th></th>\n",
       "    </tr>\n",
       "  </thead>\n",
       "  <tbody>\n",
       "    <tr>\n",
       "      <th rowspan=\"15\" valign=\"top\">Florida</th>\n",
       "      <th>Surfing</th>\n",
       "      <td>405</td>\n",
       "      <td>42.408377</td>\n",
       "    </tr>\n",
       "    <tr>\n",
       "      <th>Swimming</th>\n",
       "      <td>140</td>\n",
       "      <td>14.659686</td>\n",
       "    </tr>\n",
       "    <tr>\n",
       "      <th>Other</th>\n",
       "      <td>134</td>\n",
       "      <td>14.031414</td>\n",
       "    </tr>\n",
       "    <tr>\n",
       "      <th>Wading</th>\n",
       "      <td>74</td>\n",
       "      <td>7.748691</td>\n",
       "    </tr>\n",
       "    <tr>\n",
       "      <th>Fishing</th>\n",
       "      <td>41</td>\n",
       "      <td>4.293194</td>\n",
       "    </tr>\n",
       "    <tr>\n",
       "      <th>Standing</th>\n",
       "      <td>38</td>\n",
       "      <td>3.979058</td>\n",
       "    </tr>\n",
       "    <tr>\n",
       "      <th>Spearfishing</th>\n",
       "      <td>35</td>\n",
       "      <td>3.664921</td>\n",
       "    </tr>\n",
       "    <tr>\n",
       "      <th>Boarding</th>\n",
       "      <td>32</td>\n",
       "      <td>3.350785</td>\n",
       "    </tr>\n",
       "    <tr>\n",
       "      <th>Diving</th>\n",
       "      <td>24</td>\n",
       "      <td>2.513089</td>\n",
       "    </tr>\n",
       "    <tr>\n",
       "      <th>Scuba</th>\n",
       "      <td>11</td>\n",
       "      <td>1.151832</td>\n",
       "    </tr>\n",
       "    <tr>\n",
       "      <th>Snorkeling</th>\n",
       "      <td>9</td>\n",
       "      <td>0.942408</td>\n",
       "    </tr>\n",
       "    <tr>\n",
       "      <th>Kite</th>\n",
       "      <td>4</td>\n",
       "      <td>0.418848</td>\n",
       "    </tr>\n",
       "    <tr>\n",
       "      <th>Windsurfing</th>\n",
       "      <td>4</td>\n",
       "      <td>0.418848</td>\n",
       "    </tr>\n",
       "    <tr>\n",
       "      <th>Bathing</th>\n",
       "      <td>3</td>\n",
       "      <td>0.314136</td>\n",
       "    </tr>\n",
       "    <tr>\n",
       "      <th>Kayaking</th>\n",
       "      <td>1</td>\n",
       "      <td>0.104712</td>\n",
       "    </tr>\n",
       "  </tbody>\n",
       "</table>\n",
       "</div>"
      ],
      "text/plain": [
       "                      N.events  % Frequency\n",
       "Area    Activity                           \n",
       "Florida Surfing            405    42.408377\n",
       "        Swimming           140    14.659686\n",
       "        Other              134    14.031414\n",
       "        Wading              74     7.748691\n",
       "        Fishing             41     4.293194\n",
       "        Standing            38     3.979058\n",
       "        Spearfishing        35     3.664921\n",
       "        Boarding            32     3.350785\n",
       "        Diving              24     2.513089\n",
       "        Scuba               11     1.151832\n",
       "        Snorkeling           9     0.942408\n",
       "        Kite                 4     0.418848\n",
       "        Windsurfing          4     0.418848\n",
       "        Bathing              3     0.314136\n",
       "        Kayaking             1     0.104712"
      ]
     },
     "metadata": {},
     "output_type": "display_data"
    }
   ],
   "source": [
    "# Create a multi-index dataset and as columns I display the total number of attacks and the percentage \n",
    "#for each activity\n",
    "# Florida surfers are the ones who most frequently receive shark attacks\n",
    "# Almost 50% of shark attacks have been suffered by surfers\n",
    "\n",
    "Florida_danger_activities = df_Florida.groupby(['Area','Activity']).agg({'Activity': 'count'})\n",
    "Florida_danger_activities = Florida_danger_activities.rename(columns={\"Activity\":\"N.events\"})\n",
    "Florida_danger_activities.sort_values(by=['N.events'], ascending = False)\n",
    "Florida_danger_activities['% Frequency'] = Florida_danger_activities.groupby(level = 0).apply( lambda x: 100*x/x.sum())\n",
    "display(Florida_danger_activities.sort_values('% Frequency', ascending=False))"
   ]
  },
  {
   "cell_type": "code",
   "execution_count": 40,
   "metadata": {},
   "outputs": [
    {
     "data": {
      "text/plain": [
       "<matplotlib.axes._subplots.AxesSubplot at 0x7fc2fb31ced0>"
      ]
     },
     "metadata": {},
     "output_type": "display_data"
    },
    {
     "data": {
      "image/png": "[encoded data removed]",
      "text/plain": [
       "<Figure size 432x288 with 1 Axes>"
      ]
     },
     "metadata": {
      "needs_background": "light"
     },
     "output_type": "display_data"
    }
   ],
   "source": [
    "# The previous information inserted in a bar chart\n",
    "display(Florida_danger_activities['% Frequency'].sort_index().plot.bar())"
   ]
  },
  {
   "cell_type": "markdown",
   "metadata": {},
   "source": [
    "##  Surfing is really so risky?\n",
    "\n",
    "We have seen that surfers in Florida are the most likely to receive shark attacks.\n",
    "But what risk do they really run? Is the mortality rate comparable to other activities?"
   ]
  },
  {
   "cell_type": "code",
   "execution_count": 41,
   "metadata": {},
   "outputs": [
    {
     "data": {
      "text/plain": [
       "N          871\n",
       "Y           21\n",
       "UNKNOWN      6\n",
       "Name: Fatal (Y/N), dtype: int64"
      ]
     },
     "execution_count": 41,
     "metadata": {},
     "output_type": "execute_result"
    }
   ],
   "source": [
    "# Mortality is really low compared to the total number of cases.\n",
    "# Are the 21 deaths among the population of surfers? Try to figure out\n",
    "df_Florida['Fatal (Y/N)'].value_counts()"
   ]
  },
  {
   "cell_type": "code",
   "execution_count": 42,
   "metadata": {
    "scrolled": true
   },
   "outputs": [
    {
     "data": {
      "text/html": [
       "<div>\n",
       "<style scoped>\n",
       "    .dataframe tbody tr th:only-of-type {\n",
       "        vertical-align: middle;\n",
       "    }\n",
       "\n",
       "    .dataframe tbody tr th {\n",
       "        vertical-align: top;\n",
       "    }\n",
       "\n",
       "    .dataframe thead th {\n",
       "        text-align: right;\n",
       "    }\n",
       "</style>\n",
       "<table border=\"1\" class=\"dataframe\">\n",
       "  <thead>\n",
       "    <tr style=\"text-align: right;\">\n",
       "      <th></th>\n",
       "      <th></th>\n",
       "      <th>Activity</th>\n",
       "      <th>% Fatality</th>\n",
       "    </tr>\n",
       "    <tr>\n",
       "      <th>Activity</th>\n",
       "      <th>Fatal (Y/N)</th>\n",
       "      <th></th>\n",
       "      <th></th>\n",
       "    </tr>\n",
       "  </thead>\n",
       "  <tbody>\n",
       "    <tr>\n",
       "      <th>Bathing</th>\n",
       "      <th>N</th>\n",
       "      <td>3</td>\n",
       "      <td>100.000000</td>\n",
       "    </tr>\n",
       "    <tr>\n",
       "      <th>Boarding</th>\n",
       "      <th>N</th>\n",
       "      <td>31</td>\n",
       "      <td>100.000000</td>\n",
       "    </tr>\n",
       "    <tr>\n",
       "      <th rowspan=\"2\" valign=\"top\">Diving</th>\n",
       "      <th>N</th>\n",
       "      <td>16</td>\n",
       "      <td>88.888889</td>\n",
       "    </tr>\n",
       "    <tr>\n",
       "      <th>Y</th>\n",
       "      <td>2</td>\n",
       "      <td>11.111111</td>\n",
       "    </tr>\n",
       "    <tr>\n",
       "      <th>Fishing</th>\n",
       "      <th>N</th>\n",
       "      <td>39</td>\n",
       "      <td>100.000000</td>\n",
       "    </tr>\n",
       "    <tr>\n",
       "      <th>Kayaking</th>\n",
       "      <th>N</th>\n",
       "      <td>1</td>\n",
       "      <td>100.000000</td>\n",
       "    </tr>\n",
       "    <tr>\n",
       "      <th rowspan=\"2\" valign=\"top\">Kite</th>\n",
       "      <th>N</th>\n",
       "      <td>3</td>\n",
       "      <td>75.000000</td>\n",
       "    </tr>\n",
       "    <tr>\n",
       "      <th>Y</th>\n",
       "      <td>1</td>\n",
       "      <td>25.000000</td>\n",
       "    </tr>\n",
       "    <tr>\n",
       "      <th rowspan=\"2\" valign=\"top\">Other</th>\n",
       "      <th>N</th>\n",
       "      <td>108</td>\n",
       "      <td>94.736842</td>\n",
       "    </tr>\n",
       "    <tr>\n",
       "      <th>UNKNOWN</th>\n",
       "      <td>1</td>\n",
       "      <td>0.877193</td>\n",
       "    </tr>\n",
       "  </tbody>\n",
       "</table>\n",
       "</div>"
      ],
      "text/plain": [
       "                      Activity  % Fatality\n",
       "Activity Fatal (Y/N)                      \n",
       "Bathing  N                   3  100.000000\n",
       "Boarding N                  31  100.000000\n",
       "Diving   N                  16   88.888889\n",
       "         Y                   2   11.111111\n",
       "Fishing  N                  39  100.000000\n",
       "Kayaking N                   1  100.000000\n",
       "Kite     N                   3   75.000000\n",
       "         Y                   1   25.000000\n",
       "Other    N                 108   94.736842\n",
       "         UNKNOWN             1    0.877193"
      ]
     },
     "execution_count": 42,
     "metadata": {},
     "output_type": "execute_result"
    }
   ],
   "source": [
    "# Create a table and group it by activity and fatality\n",
    "Florida_danger_fatality = df_Florida.groupby(['Activity', 'Fatal (Y/N)']).agg({'Activity': 'count'})\n",
    "Florida_danger_fatality.sort_index().head(10)\n",
    "# Show the %\n",
    "Florida_danger_fatality['% Fatality'] = Florida_danger_fatality.groupby(level = 0).apply( lambda x: 100*x/x.sum())\n",
    "Florida_danger_fatality.head(10)\n",
    "# You can see that there are no surfers dead, other activities have a significantly higher mortality rate"
   ]
  },
  {
   "cell_type": "code",
   "execution_count": 43,
   "metadata": {},
   "outputs": [],
   "source": [
    "# Previous table shown in this graph\n",
    "# IMPORTANT: NOW THIS CODE DOESN'T WORK! TRY TO FIGURE OUT\n",
    "\n",
    "#Florida_danger_fatality.groupby(['Activity',\"Fatal (Y/N)\"]).agg({\"Fatal (Y/N)\":\"count\"}).groupby(level=0).apply(\n",
    "#    lambda x: 100 * x / x.sum()\n",
    "#).unstack().plot(kind='bar',stacked=True)\n"
   ]
  },
  {
   "cell_type": "markdown",
   "metadata": {},
   "source": [
    "##  No surfers killed in nearly 400 attacks? Florida surfers are very lucky!\n",
    "The type of sport probably influences this data. The surfer's body is not particularly exposed, so that most of the shark wounds are in the lower limbs.# "
   ]
  },
  {
   "cell_type": "code",
   "execution_count": 44,
   "metadata": {},
   "outputs": [],
   "source": [
    "df_Surfer = df_Florida[(df_Florida[\"Activity\"] == 'Surfing')]"
   ]
  },
  {
   "cell_type": "code",
   "execution_count": 45,
   "metadata": {},
   "outputs": [
    {
     "data": {
      "text/html": [
       "<div>\n",
       "<style scoped>\n",
       "    .dataframe tbody tr th:only-of-type {\n",
       "        vertical-align: middle;\n",
       "    }\n",
       "\n",
       "    .dataframe tbody tr th {\n",
       "        vertical-align: top;\n",
       "    }\n",
       "\n",
       "    .dataframe thead th {\n",
       "        text-align: right;\n",
       "    }\n",
       "</style>\n",
       "<table border=\"1\" class=\"dataframe\">\n",
       "  <thead>\n",
       "    <tr style=\"text-align: right;\">\n",
       "      <th></th>\n",
       "      <th>T.Injury</th>\n",
       "    </tr>\n",
       "    <tr>\n",
       "      <th>Injury</th>\n",
       "      <th></th>\n",
       "    </tr>\n",
       "  </thead>\n",
       "  <tbody>\n",
       "    <tr>\n",
       "      <th>Foot</th>\n",
       "      <td>151</td>\n",
       "    </tr>\n",
       "    <tr>\n",
       "      <th>Hand</th>\n",
       "      <td>47</td>\n",
       "    </tr>\n",
       "    <tr>\n",
       "      <th>Leg</th>\n",
       "      <td>27</td>\n",
       "    </tr>\n",
       "    <tr>\n",
       "      <th>Ankle</th>\n",
       "      <td>25</td>\n",
       "    </tr>\n",
       "    <tr>\n",
       "      <th>Foot Ankle</th>\n",
       "      <td>21</td>\n",
       "    </tr>\n",
       "    <tr>\n",
       "      <th>Unknown</th>\n",
       "      <td>16</td>\n",
       "    </tr>\n",
       "    <tr>\n",
       "      <th>Arm</th>\n",
       "      <td>16</td>\n",
       "    </tr>\n",
       "    <tr>\n",
       "      <th>Calf</th>\n",
       "      <td>13</td>\n",
       "    </tr>\n",
       "    <tr>\n",
       "      <th>Heel</th>\n",
       "      <td>9</td>\n",
       "    </tr>\n",
       "    <tr>\n",
       "      <th>Thigh</th>\n",
       "      <td>9</td>\n",
       "    </tr>\n",
       "  </tbody>\n",
       "</table>\n",
       "</div>"
      ],
      "text/plain": [
       "            T.Injury\n",
       "Injury              \n",
       "Foot             151\n",
       "Hand              47\n",
       "Leg               27\n",
       "Ankle             25\n",
       "Foot Ankle        21\n",
       "Unknown           16\n",
       "Arm               16\n",
       "Calf              13\n",
       "Heel               9\n",
       "Thigh              9"
      ]
     },
     "execution_count": 45,
     "metadata": {},
     "output_type": "execute_result"
    }
   ],
   "source": [
    "graph_surfer = df_Surfer.groupby(['Injury']).agg({'Injury': 'count'})\n",
    "graph_surfer = graph_surfer.rename(columns={\"Injury\":\"T.Injury\"})\n",
    "graph_surfer.sort_values('T.Injury', ascending= False).head(10)"
   ]
  },
  {
   "cell_type": "code",
   "execution_count": 46,
   "metadata": {},
   "outputs": [],
   "source": [
    "# The result on Florida surfers may seem strange. \n",
    "# Let's go back and compare it with surfers in Australia to validate the hypothesis"
   ]
  },
  {
   "cell_type": "code",
   "execution_count": 47,
   "metadata": {},
   "outputs": [],
   "source": [
    "All_Surfer = small_df[(small_df[\"Activity\"] == 'Surfing')]\n",
    "Australian_Surfer = All_Surfer[(All_Surfer[\"Country\"] == 'AUSTRALIA')]"
   ]
  },
  {
   "cell_type": "code",
   "execution_count": 48,
   "metadata": {},
   "outputs": [
    {
     "data": {
      "text/html": [
       "<div>\n",
       "<style scoped>\n",
       "    .dataframe tbody tr th:only-of-type {\n",
       "        vertical-align: middle;\n",
       "    }\n",
       "\n",
       "    .dataframe tbody tr th {\n",
       "        vertical-align: top;\n",
       "    }\n",
       "\n",
       "    .dataframe thead th {\n",
       "        text-align: right;\n",
       "    }\n",
       "</style>\n",
       "<table border=\"1\" class=\"dataframe\">\n",
       "  <thead>\n",
       "    <tr style=\"text-align: right;\">\n",
       "      <th></th>\n",
       "      <th></th>\n",
       "      <th>% Fatality</th>\n",
       "    </tr>\n",
       "    <tr>\n",
       "      <th>Activities</th>\n",
       "      <th>Fatal (Y/N)</th>\n",
       "      <th></th>\n",
       "    </tr>\n",
       "  </thead>\n",
       "  <tbody>\n",
       "    <tr>\n",
       "      <th rowspan=\"3\" valign=\"top\">Surfing</th>\n",
       "      <th>N</th>\n",
       "      <td>91.379310</td>\n",
       "    </tr>\n",
       "    <tr>\n",
       "      <th>UNKNOWN</th>\n",
       "      <td>0.862069</td>\n",
       "    </tr>\n",
       "    <tr>\n",
       "      <th>Y</th>\n",
       "      <td>7.758621</td>\n",
       "    </tr>\n",
       "  </tbody>\n",
       "</table>\n",
       "</div>"
      ],
      "text/plain": [
       "                        % Fatality\n",
       "Activities Fatal (Y/N)            \n",
       "Surfing    N             91.379310\n",
       "           UNKNOWN        0.862069\n",
       "           Y              7.758621"
      ]
     },
     "metadata": {},
     "output_type": "display_data"
    }
   ],
   "source": [
    "Australian_Surfer = Australian_Surfer.rename(columns={\"Activity\":\"Activities\"})\n",
    "#Australian_Surfer['Fatal (Y/N)'].value_counts()\n",
    "Australian_Surfer = Australian_Surfer.groupby(['Activities', 'Fatal (Y/N)']).agg({'Fatal (Y/N)': 'count'})\n",
    "# Show the %\n",
    "Australian_Surfer = Australian_Surfer.rename(columns={\"Fatal (Y/N)\":\"% Fatality\"})\n",
    "Australian_Surfer['% Fatality'] = Australian_Surfer.groupby(level = 0).apply( lambda x: 100*x/x.sum())\n",
    "display(Australian_Surfer.head())"
   ]
  },
  {
   "cell_type": "markdown",
   "metadata": {},
   "source": [
    "##  Conclusion\n",
    "Contrary to what one might think, the number of surfers who die from shark attacks every year is particularly low, also in relation to other sports activities. Australia's deaths out of the total are less than 8% of the total.\n",
    "The Florida data is surprising:\n",
    "Surfers having fun in these waters are particularly fortunate, no deaths present in the analyzed data, only 3 Unknowns in which we do not know the outcome. But given the premises they will surely be saved!\n",
    "Surf, it's safe and fun!"
   ]
  }
 ],
 "metadata": {
  "kernelspec": {
   "display_name": "Python 3",
   "language": "python",
   "name": "python3"
  },
  "language_info": {
   "codemirror_mode": {
    "name": "ipython",
    "version": 3
   },
   "file_extension": ".py",
   "mimetype": "text/x-python",
   "name": "python",
   "nbconvert_exporter": "python",
   "pygments_lexer": "ipython3",
   "version": "3.7.6"
  }
 },
 "nbformat": 4,
 "nbformat_minor": 4
}
